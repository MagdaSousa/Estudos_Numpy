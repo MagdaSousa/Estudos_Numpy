{
  "nbformat": 4,
  "nbformat_minor": 0,
  "metadata": {
    "kernelspec": {
      "display_name": "Python 3",
      "language": "python",
      "name": "python3"
    },
    "language_info": {
      "codemirror_mode": {
        "name": "ipython",
        "version": 3
      },
      "file_extension": ".py",
      "mimetype": "text/x-python",
      "name": "python",
      "nbconvert_exporter": "python",
      "pygments_lexer": "ipython3",
      "version": "3.6.1"
    },
    "colab": {
      "name": "NumPy Arrays.ipynb",
      "provenance": [],
      "include_colab_link": true
    }
  },
  "cells": [
    {
      "cell_type": "markdown",
      "metadata": {
        "id": "view-in-github",
        "colab_type": "text"
      },
      "source": [
        "<a href=\"https://colab.research.google.com/github/MagdaSousa/Estudos_Numpy/blob/main/NumPy_Arrays.ipynb\" target=\"_parent\"><img src=\"https://colab.research.google.com/assets/colab-badge.svg\" alt=\"Open In Colab\"/></a>"
      ]
    },
    {
      "cell_type": "markdown",
      "metadata": {
        "id": "kyDKp0Y4K_zg"
      },
      "source": [
        "# NumPy \n",
        "\n",
        "NumPy é uma biblioteca de álgebra linear para Python"
      ]
    },
    {
      "cell_type": "code",
      "metadata": {
        "collapsed": true,
        "id": "7s0fR7S_K_zi"
      },
      "source": [
        "import numpy as np"
      ],
      "execution_count": 24,
      "outputs": []
    },
    {
      "cell_type": "markdown",
      "metadata": {
        "id": "ixbGeUakK_zj"
      },
      "source": [
        "## Criando NumPy Arrays\n",
        "\n",
        "Criando um array numpy, apartir de uma lista python"
      ]
    },
    {
      "cell_type": "code",
      "metadata": {
        "colab": {
          "base_uri": "https://localhost:8080/"
        },
        "id": "e6vyXw2rK_zj",
        "outputId": "6f97f4a6-b821-4531-d178-0b5ccda93f3d"
      },
      "source": [
        "minha_lista = [1,2,3]\n",
        "np.array(minha_lista)"
      ],
      "execution_count": 25,
      "outputs": [
        {
          "output_type": "execute_result",
          "data": {
            "text/plain": [
              "array([1, 2, 3])"
            ]
          },
          "metadata": {
            "tags": []
          },
          "execution_count": 25
        }
      ]
    },
    {
      "cell_type": "code",
      "metadata": {
        "colab": {
          "base_uri": "https://localhost:8080/"
        },
        "id": "9EuRTVn9K_zk",
        "outputId": "5989cdf3-4e57-4225-dae8-afc6e6863fbc"
      },
      "source": [
        "minha_matriz = [[1,2,3],[4,5,6],[7,8,9]]\n",
        "np.array(minha_matriz)"
      ],
      "execution_count": 26,
      "outputs": [
        {
          "output_type": "execute_result",
          "data": {
            "text/plain": [
              "array([[1, 2, 3],\n",
              "       [4, 5, 6],\n",
              "       [7, 8, 9]])"
            ]
          },
          "metadata": {
            "tags": []
          },
          "execution_count": 26
        }
      ]
    },
    {
      "cell_type": "markdown",
      "metadata": {
        "id": "8409g9eTK_zl"
      },
      "source": [
        "## Métodos incorporados (Built-in Methods)\n"
      ]
    },
    {
      "cell_type": "markdown",
      "metadata": {
        "id": "2lmykF9sK_zl"
      },
      "source": [
        "### arange\n",
        "\n",
        "Retorna valores uniformemente espaçados dentro de um determinado intervalo."
      ]
    },
    {
      "cell_type": "code",
      "metadata": {
        "colab": {
          "base_uri": "https://localhost:8080/"
        },
        "id": "0taXEPfKK_zl",
        "outputId": "7585233a-9493-4477-dfb6-2aac982ed4f3"
      },
      "source": [
        "np.arange(0,14)# cria uma sequencia de números"
      ],
      "execution_count": 27,
      "outputs": [
        {
          "output_type": "execute_result",
          "data": {
            "text/plain": [
              "array([ 0,  1,  2,  3,  4,  5,  6,  7,  8,  9, 10, 11, 12, 13])"
            ]
          },
          "metadata": {
            "tags": []
          },
          "execution_count": 27
        }
      ]
    },
    {
      "cell_type": "code",
      "metadata": {
        "colab": {
          "base_uri": "https://localhost:8080/"
        },
        "id": "qorkinL6K_zm",
        "outputId": "0fdd0ae2-a3e8-4acc-bb70-c011f843e191"
      },
      "source": [
        "np.arange(0,13,3)# cria uma sequencia de números pulando de 2 em 2"
      ],
      "execution_count": 28,
      "outputs": [
        {
          "output_type": "execute_result",
          "data": {
            "text/plain": [
              "array([ 0,  3,  6,  9, 12])"
            ]
          },
          "metadata": {
            "tags": []
          },
          "execution_count": 28
        }
      ]
    },
    {
      "cell_type": "markdown",
      "metadata": {
        "id": "IaHq1H5gK_zm"
      },
      "source": [
        "### zeros e ones\n",
        "\n",
        "Gerar matrizes de zeros ou de ums"
      ]
    },
    {
      "cell_type": "code",
      "metadata": {
        "colab": {
          "base_uri": "https://localhost:8080/"
        },
        "id": "R5QEZwtDK_zm",
        "outputId": "cce5a9aa-f730-46bd-a258-32df305aa3f6"
      },
      "source": [
        "np.zeros(3)# criando array de zeros"
      ],
      "execution_count": 29,
      "outputs": [
        {
          "output_type": "execute_result",
          "data": {
            "text/plain": [
              "array([0., 0., 0.])"
            ]
          },
          "metadata": {
            "tags": []
          },
          "execution_count": 29
        }
      ]
    },
    {
      "cell_type": "code",
      "metadata": {
        "colab": {
          "base_uri": "https://localhost:8080/"
        },
        "id": "aaT3YrmHK_zm",
        "outputId": "89613e33-1c51-4417-d20e-b48f38f1c3bc"
      },
      "source": [
        "np.zeros((5,5))# criar matris 5x5 zerada"
      ],
      "execution_count": 30,
      "outputs": [
        {
          "output_type": "execute_result",
          "data": {
            "text/plain": [
              "array([[0., 0., 0., 0., 0.],\n",
              "       [0., 0., 0., 0., 0.],\n",
              "       [0., 0., 0., 0., 0.],\n",
              "       [0., 0., 0., 0., 0.],\n",
              "       [0., 0., 0., 0., 0.]])"
            ]
          },
          "metadata": {
            "tags": []
          },
          "execution_count": 30
        }
      ]
    },
    {
      "cell_type": "code",
      "metadata": {
        "colab": {
          "base_uri": "https://localhost:8080/"
        },
        "id": "VMiCXjR_K_zn",
        "outputId": "87b910d6-f008-4a34-9d30-dd279f054f5a"
      },
      "source": [
        "np.ones(3)# matriz preenchida com números 1"
      ],
      "execution_count": 31,
      "outputs": [
        {
          "output_type": "execute_result",
          "data": {
            "text/plain": [
              "array([1., 1., 1.])"
            ]
          },
          "metadata": {
            "tags": []
          },
          "execution_count": 31
        }
      ]
    },
    {
      "cell_type": "code",
      "metadata": {
        "colab": {
          "base_uri": "https://localhost:8080/"
        },
        "id": "vdrL9UghK_zn",
        "outputId": "2954aeb0-13d1-46c6-8a66-5ed60dc82931"
      },
      "source": [
        "np.ones((4,4))"
      ],
      "execution_count": 32,
      "outputs": [
        {
          "output_type": "execute_result",
          "data": {
            "text/plain": [
              "array([[1., 1., 1., 1.],\n",
              "       [1., 1., 1., 1.],\n",
              "       [1., 1., 1., 1.],\n",
              "       [1., 1., 1., 1.]])"
            ]
          },
          "metadata": {
            "tags": []
          },
          "execution_count": 32
        }
      ]
    },
    {
      "cell_type": "markdown",
      "metadata": {
        "id": "PAg_CTALK_zn"
      },
      "source": [
        "### linspace\n",
        "Retorna números uniformemente espaçados ao longo de um intervalo especificado.  \n",
        "Parâmetros obrigatórios  \n",
        "start: O valor inicial da sequência.  \n",
        "end: O valor final da sequência, a menos que o ponto final seja definido como   False.\n",
        "\n"
      ]
    },
    {
      "cell_type": "code",
      "metadata": {
        "colab": {
          "base_uri": "https://localhost:8080/"
        },
        "id": "h5s-SerFK_zn",
        "outputId": "f66e802a-8a9b-4170-9e04-6ce71df62389"
      },
      "source": [
        "np.linspace(0,10,3)# semelhante ao arenge, start,stop, quantos números vc quer ver espaçados"
      ],
      "execution_count": 33,
      "outputs": [
        {
          "output_type": "execute_result",
          "data": {
            "text/plain": [
              "array([ 0.,  5., 10.])"
            ]
          },
          "metadata": {
            "tags": []
          },
          "execution_count": 33
        }
      ]
    },
    {
      "cell_type": "code",
      "metadata": {
        "colab": {
          "base_uri": "https://localhost:8080/"
        },
        "id": "LMCk6HKlK_zo",
        "outputId": "2f578100-1b28-447f-b809-7031b784a13f"
      },
      "source": [
        "np.linspace(0,10,50)"
      ],
      "execution_count": 34,
      "outputs": [
        {
          "output_type": "execute_result",
          "data": {
            "text/plain": [
              "array([ 0.        ,  0.20408163,  0.40816327,  0.6122449 ,  0.81632653,\n",
              "        1.02040816,  1.2244898 ,  1.42857143,  1.63265306,  1.83673469,\n",
              "        2.04081633,  2.24489796,  2.44897959,  2.65306122,  2.85714286,\n",
              "        3.06122449,  3.26530612,  3.46938776,  3.67346939,  3.87755102,\n",
              "        4.08163265,  4.28571429,  4.48979592,  4.69387755,  4.89795918,\n",
              "        5.10204082,  5.30612245,  5.51020408,  5.71428571,  5.91836735,\n",
              "        6.12244898,  6.32653061,  6.53061224,  6.73469388,  6.93877551,\n",
              "        7.14285714,  7.34693878,  7.55102041,  7.75510204,  7.95918367,\n",
              "        8.16326531,  8.36734694,  8.57142857,  8.7755102 ,  8.97959184,\n",
              "        9.18367347,  9.3877551 ,  9.59183673,  9.79591837, 10.        ])"
            ]
          },
          "metadata": {
            "tags": []
          },
          "execution_count": 34
        }
      ]
    },
    {
      "cell_type": "markdown",
      "metadata": {
        "id": "Ey1hL4E3K_zo"
      },
      "source": [
        "## eye\n",
        "\n",
        "Cria uma matriz identidade  \n",
        "\n"
      ]
    },
    {
      "cell_type": "code",
      "metadata": {
        "colab": {
          "base_uri": "https://localhost:8080/"
        },
        "id": "focYTyecK_zo",
        "outputId": "7fda1f8a-4641-4481-ccca-3e31240496b1"
      },
      "source": [
        "np.eye(4)# contem 1 na diagonal e zero no restante"
      ],
      "execution_count": 35,
      "outputs": [
        {
          "output_type": "execute_result",
          "data": {
            "text/plain": [
              "array([[1., 0., 0., 0.],\n",
              "       [0., 1., 0., 0.],\n",
              "       [0., 0., 1., 0.],\n",
              "       [0., 0., 0., 1.]])"
            ]
          },
          "metadata": {
            "tags": []
          },
          "execution_count": 35
        }
      ]
    },
    {
      "cell_type": "markdown",
      "metadata": {
        "id": "IMGInT5IK_zo"
      },
      "source": [
        "## Random \n",
        "### rand\n",
        "Cria uma matriz da forma dada e preencha com amostras aleatórias de uma distribuição uniforme sobre ``[0, 1)``."
      ]
    },
    {
      "cell_type": "code",
      "metadata": {
        "colab": {
          "base_uri": "https://localhost:8080/"
        },
        "id": "VJ0Q30e2K_zo",
        "outputId": "c0fe8c32-7a9f-4d7c-8f8d-9cf0ecaa4cee"
      },
      "source": [
        "np.random.rand(2)# especifica o parametro para criar números com a mesma probabilidade de serem selecionados"
      ],
      "execution_count": 36,
      "outputs": [
        {
          "output_type": "execute_result",
          "data": {
            "text/plain": [
              "array([0.01613402, 0.52896637])"
            ]
          },
          "metadata": {
            "tags": []
          },
          "execution_count": 36
        }
      ]
    },
    {
      "cell_type": "code",
      "metadata": {
        "colab": {
          "base_uri": "https://localhost:8080/"
        },
        "id": "8TiuyecTK_zp",
        "outputId": "bea5ecf8-a08c-492f-b9ac-82a0f495c00c"
      },
      "source": [
        "np.random.rand(5,5)# matriz de duas dimensoes"
      ],
      "execution_count": 37,
      "outputs": [
        {
          "output_type": "execute_result",
          "data": {
            "text/plain": [
              "array([[0.71905066, 0.07073309, 0.48658473, 0.68614813, 0.22648418],\n",
              "       [0.88224546, 0.52160815, 0.29675422, 0.47642205, 0.25791827],\n",
              "       [0.77288828, 0.99643941, 0.7246696 , 0.48386735, 0.73487572],\n",
              "       [0.5791119 , 0.46633243, 0.29207819, 0.70717853, 0.58213218],\n",
              "       [0.47522788, 0.73203851, 0.51334309, 0.44499371, 0.28011204]])"
            ]
          },
          "metadata": {
            "tags": []
          },
          "execution_count": 37
        }
      ]
    },
    {
      "cell_type": "markdown",
      "metadata": {
        "id": "pg9qfy56K_zp"
      },
      "source": [
        "### randn\n",
        "\n",
        "Retorna uma amostra (ou amostras) da distribuição \"normal\". Ao contrário de rand, que é uniforme:"
      ]
    },
    {
      "cell_type": "code",
      "metadata": {
        "colab": {
          "base_uri": "https://localhost:8080/"
        },
        "id": "HvTl4n5jK_zp",
        "outputId": "7c69b512-a993-4ed9-87d0-01ec2b4de6c3"
      },
      "source": [
        "np.random.randn(2)"
      ],
      "execution_count": 38,
      "outputs": [
        {
          "output_type": "execute_result",
          "data": {
            "text/plain": [
              "array([-1.37557868,  0.50972631])"
            ]
          },
          "metadata": {
            "tags": []
          },
          "execution_count": 38
        }
      ]
    },
    {
      "cell_type": "code",
      "metadata": {
        "colab": {
          "base_uri": "https://localhost:8080/"
        },
        "id": "1U6jypfUK_zp",
        "outputId": "b70457e4-b2ac-458f-8006-319cc5851bcb"
      },
      "source": [
        "np.random.randn(5,5)"
      ],
      "execution_count": 39,
      "outputs": [
        {
          "output_type": "execute_result",
          "data": {
            "text/plain": [
              "array([[ 0.51517017,  0.30857542, -0.98474751, -0.24883493,  0.16539058],\n",
              "       [ 0.88393306,  0.24311197,  1.91855261,  0.57208523,  1.21423013],\n",
              "       [-1.52860095,  1.7246447 , -0.51617757, -2.05844146,  0.28429345],\n",
              "       [-0.28498482,  0.17463026,  0.43357607,  1.99628395, -0.2360663 ],\n",
              "       [ 1.00117949,  0.61953035, -0.89489821,  0.08884049,  0.16925134]])"
            ]
          },
          "metadata": {
            "tags": []
          },
          "execution_count": 39
        }
      ]
    },
    {
      "cell_type": "markdown",
      "metadata": {
        "id": "2pBmmSf0K_zq"
      },
      "source": [
        "### randint\n",
        "Retorna inteiros aleatórios de \"low\" (inclusive) para \"high\" (exclusivo)."
      ]
    },
    {
      "cell_type": "code",
      "metadata": {
        "colab": {
          "base_uri": "https://localhost:8080/"
        },
        "id": "slBagBRVK_zq",
        "outputId": "1f764312-5f3e-4609-da91-b65f2e8923c5"
      },
      "source": [
        "np.random.randint(1,100)"
      ],
      "execution_count": 40,
      "outputs": [
        {
          "output_type": "execute_result",
          "data": {
            "text/plain": [
              "10"
            ]
          },
          "metadata": {
            "tags": []
          },
          "execution_count": 40
        }
      ]
    },
    {
      "cell_type": "code",
      "metadata": {
        "colab": {
          "base_uri": "https://localhost:8080/"
        },
        "id": "D7tA60LwK_zq",
        "outputId": "101f7d09-3edc-4673-ffbe-063ef4f8eedf"
      },
      "source": [
        "np.random.randint(1,100,10)"
      ],
      "execution_count": 41,
      "outputs": [
        {
          "output_type": "execute_result",
          "data": {
            "text/plain": [
              "array([ 3, 71,  6, 36,  1, 23,  5, 53, 20, 24])"
            ]
          },
          "metadata": {
            "tags": []
          },
          "execution_count": 41
        }
      ]
    },
    {
      "cell_type": "markdown",
      "metadata": {
        "id": "yJgz9g7SK_zq"
      },
      "source": [
        "## Atributos de Array e Métodos\n",
        "\n",
        "Vamos discutir alguns atributos e métodos úteis ou uma matriz:"
      ]
    },
    {
      "cell_type": "code",
      "metadata": {
        "collapsed": true,
        "id": "9Anhh7OmK_zq"
      },
      "source": [
        "arr = np.arange(25)\n",
        "ranarr = np.random.randint(0,50,10)"
      ],
      "execution_count": 42,
      "outputs": []
    },
    {
      "cell_type": "code",
      "metadata": {
        "colab": {
          "base_uri": "https://localhost:8080/"
        },
        "id": "4IC3wxaNK_zq",
        "outputId": "1e8d9900-6fe6-42b1-bdf5-398582acd427"
      },
      "source": [
        "arr"
      ],
      "execution_count": 43,
      "outputs": [
        {
          "output_type": "execute_result",
          "data": {
            "text/plain": [
              "array([ 0,  1,  2,  3,  4,  5,  6,  7,  8,  9, 10, 11, 12, 13, 14, 15, 16,\n",
              "       17, 18, 19, 20, 21, 22, 23, 24])"
            ]
          },
          "metadata": {
            "tags": []
          },
          "execution_count": 43
        }
      ]
    },
    {
      "cell_type": "code",
      "metadata": {
        "colab": {
          "base_uri": "https://localhost:8080/"
        },
        "id": "yxLHSYgxK_zr",
        "outputId": "c5f0603b-1837-498c-a20b-b7f441cc2558"
      },
      "source": [
        "ranarr"
      ],
      "execution_count": 44,
      "outputs": [
        {
          "output_type": "execute_result",
          "data": {
            "text/plain": [
              "array([19,  1,  7, 24, 47,  9,  9, 26, 12,  3])"
            ]
          },
          "metadata": {
            "tags": []
          },
          "execution_count": 44
        }
      ]
    },
    {
      "cell_type": "markdown",
      "metadata": {
        "id": "DnNlBJAqK_zr"
      },
      "source": [
        "## Reshape\n",
        "Retorna uma matriz contendo os mesmos dados com uma nova forma."
      ]
    },
    {
      "cell_type": "code",
      "metadata": {
        "colab": {
          "base_uri": "https://localhost:8080/"
        },
        "id": "dRwz0VsgK_zr",
        "outputId": "8497fe5b-b315-4371-c877-8f54a45bb8c7"
      },
      "source": [
        "arr.reshape(5,5)"
      ],
      "execution_count": 45,
      "outputs": [
        {
          "output_type": "execute_result",
          "data": {
            "text/plain": [
              "array([[ 0,  1,  2,  3,  4],\n",
              "       [ 5,  6,  7,  8,  9],\n",
              "       [10, 11, 12, 13, 14],\n",
              "       [15, 16, 17, 18, 19],\n",
              "       [20, 21, 22, 23, 24]])"
            ]
          },
          "metadata": {
            "tags": []
          },
          "execution_count": 45
        }
      ]
    },
    {
      "cell_type": "markdown",
      "metadata": {
        "id": "wQh3amsVK_zr"
      },
      "source": [
        "### max,min,argmax,argmin\n",
        "\n",
        "Estes são métodos úteis para encontrar valores máximos ou mínimos, ou para encontrar seus locais de índice usando argmin ou argmax"
      ]
    },
    {
      "cell_type": "code",
      "metadata": {
        "colab": {
          "base_uri": "https://localhost:8080/"
        },
        "id": "JfTT2JiUK_zs",
        "outputId": "22f342af-4c25-467e-ae70-d7266510bf20"
      },
      "source": [
        "ranarr"
      ],
      "execution_count": 46,
      "outputs": [
        {
          "output_type": "execute_result",
          "data": {
            "text/plain": [
              "array([19,  1,  7, 24, 47,  9,  9, 26, 12,  3])"
            ]
          },
          "metadata": {
            "tags": []
          },
          "execution_count": 46
        }
      ]
    },
    {
      "cell_type": "code",
      "metadata": {
        "colab": {
          "base_uri": "https://localhost:8080/"
        },
        "id": "hqH1_AWzK_zs",
        "outputId": "6f909fd0-54a9-4571-a63a-4b7068e5e38d"
      },
      "source": [
        "ranarr.max()"
      ],
      "execution_count": 47,
      "outputs": [
        {
          "output_type": "execute_result",
          "data": {
            "text/plain": [
              "47"
            ]
          },
          "metadata": {
            "tags": []
          },
          "execution_count": 47
        }
      ]
    },
    {
      "cell_type": "code",
      "metadata": {
        "colab": {
          "base_uri": "https://localhost:8080/"
        },
        "id": "kK9PxO7QK_zs",
        "outputId": "9f085490-46e9-4411-cfc4-5d15650ee256"
      },
      "source": [
        "ranarr.argmax()"
      ],
      "execution_count": 48,
      "outputs": [
        {
          "output_type": "execute_result",
          "data": {
            "text/plain": [
              "4"
            ]
          },
          "metadata": {
            "tags": []
          },
          "execution_count": 48
        }
      ]
    },
    {
      "cell_type": "code",
      "metadata": {
        "colab": {
          "base_uri": "https://localhost:8080/"
        },
        "id": "RkyXWnoOK_zs",
        "outputId": "41aaa3e7-2164-4f51-c30f-4419b81949cb"
      },
      "source": [
        "ranarr.min()"
      ],
      "execution_count": 49,
      "outputs": [
        {
          "output_type": "execute_result",
          "data": {
            "text/plain": [
              "1"
            ]
          },
          "metadata": {
            "tags": []
          },
          "execution_count": 49
        }
      ]
    },
    {
      "cell_type": "code",
      "metadata": {
        "colab": {
          "base_uri": "https://localhost:8080/"
        },
        "id": "0D9POJS3K_zt",
        "outputId": "2903481b-e988-470d-cd7c-c5f15ff40e02"
      },
      "source": [
        "ranarr.argmin()"
      ],
      "execution_count": 50,
      "outputs": [
        {
          "output_type": "execute_result",
          "data": {
            "text/plain": [
              "1"
            ]
          },
          "metadata": {
            "tags": []
          },
          "execution_count": 50
        }
      ]
    },
    {
      "cell_type": "markdown",
      "metadata": {
        "id": "HYZkC6MkK_zt"
      },
      "source": [
        "## Shape:"
      ]
    },
    {
      "cell_type": "code",
      "metadata": {
        "colab": {
          "base_uri": "https://localhost:8080/"
        },
        "id": "AXnEcc7jK_zt",
        "outputId": "8afef33a-9878-4947-9833-48b60fe08fb1"
      },
      "source": [
        "# Vector\n",
        "arr.shape"
      ],
      "execution_count": 51,
      "outputs": [
        {
          "output_type": "execute_result",
          "data": {
            "text/plain": [
              "(25,)"
            ]
          },
          "metadata": {
            "tags": []
          },
          "execution_count": 51
        }
      ]
    },
    {
      "cell_type": "code",
      "metadata": {
        "colab": {
          "base_uri": "https://localhost:8080/"
        },
        "id": "L_cWmT6-K_zt",
        "outputId": "852a567b-7046-44ec-c29e-2e3fad85f783"
      },
      "source": [
        "arr.reshape(1,25)"
      ],
      "execution_count": 52,
      "outputs": [
        {
          "output_type": "execute_result",
          "data": {
            "text/plain": [
              "array([[ 0,  1,  2,  3,  4,  5,  6,  7,  8,  9, 10, 11, 12, 13, 14, 15,\n",
              "        16, 17, 18, 19, 20, 21, 22, 23, 24]])"
            ]
          },
          "metadata": {
            "tags": []
          },
          "execution_count": 52
        }
      ]
    },
    {
      "cell_type": "code",
      "metadata": {
        "colab": {
          "base_uri": "https://localhost:8080/"
        },
        "id": "l5bT-n_EK_zt",
        "outputId": "ef1ac9ba-816a-4ec3-ad9a-34cf2383ceea"
      },
      "source": [
        "arr.reshape(1,25).shape"
      ],
      "execution_count": 53,
      "outputs": [
        {
          "output_type": "execute_result",
          "data": {
            "text/plain": [
              "(1, 25)"
            ]
          },
          "metadata": {
            "tags": []
          },
          "execution_count": 53
        }
      ]
    },
    {
      "cell_type": "code",
      "metadata": {
        "colab": {
          "base_uri": "https://localhost:8080/"
        },
        "id": "Ic6xy59PK_zu",
        "outputId": "00b1f568-b46b-43ef-ba25-30b9272ac01f"
      },
      "source": [
        "arr.reshape(25,1)"
      ],
      "execution_count": 58,
      "outputs": [
        {
          "output_type": "execute_result",
          "data": {
            "text/plain": [
              "array([[ 0],\n",
              "       [ 1],\n",
              "       [ 2],\n",
              "       [ 3],\n",
              "       [ 4],\n",
              "       [ 5],\n",
              "       [ 6],\n",
              "       [ 7],\n",
              "       [ 8],\n",
              "       [ 9],\n",
              "       [10],\n",
              "       [11],\n",
              "       [12],\n",
              "       [13],\n",
              "       [14],\n",
              "       [15],\n",
              "       [16],\n",
              "       [17],\n",
              "       [18],\n",
              "       [19],\n",
              "       [20],\n",
              "       [21],\n",
              "       [22],\n",
              "       [23],\n",
              "       [24]])"
            ]
          },
          "metadata": {
            "tags": []
          },
          "execution_count": 58
        }
      ]
    },
    {
      "cell_type": "code",
      "metadata": {
        "colab": {
          "base_uri": "https://localhost:8080/"
        },
        "id": "a6CNrE_2K_zu",
        "outputId": "b2d65db8-2339-4a55-9b08-ca972b8b1396"
      },
      "source": [
        "arr.reshape(25,1).shape"
      ],
      "execution_count": 55,
      "outputs": [
        {
          "output_type": "execute_result",
          "data": {
            "text/plain": [
              "(25, 1)"
            ]
          },
          "metadata": {
            "tags": []
          },
          "execution_count": 55
        }
      ]
    },
    {
      "cell_type": "markdown",
      "metadata": {
        "id": "s8JT_qlRK_zu"
      },
      "source": [
        "### dtype\n",
        "tipo dos dados"
      ]
    },
    {
      "cell_type": "code",
      "metadata": {
        "colab": {
          "base_uri": "https://localhost:8080/"
        },
        "id": "PmjXhruLK_zu",
        "outputId": "83561452-65cb-432f-b300-6f2d9d29fc78"
      },
      "source": [
        "arr.dtype"
      ],
      "execution_count": 56,
      "outputs": [
        {
          "output_type": "execute_result",
          "data": {
            "text/plain": [
              "dtype('int64')"
            ]
          },
          "metadata": {
            "tags": []
          },
          "execution_count": 56
        }
      ]
    }
  ]
}